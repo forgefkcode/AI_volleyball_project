{
  "nbformat": 4,
  "nbformat_minor": 0,
  "metadata": {
    "colab": {
      "provenance": [],
      "include_colab_link": true
    },
    "kernelspec": {
      "name": "python3",
      "display_name": "Python 3"
    },
    "language_info": {
      "name": "python"
    }
  },
  "cells": [
    {
      "cell_type": "markdown",
      "metadata": {
        "id": "view-in-github",
        "colab_type": "text"
      },
      "source": [
        "<a href=\"https://colab.research.google.com/github/forgefkcode/AI_volleyball_project/blob/40/AI_volleyball_project.ipynb\" target=\"_parent\"><img src=\"https://colab.research.google.com/assets/colab-badge.svg\" alt=\"Open In Colab\"/></a>"
      ]
    },
    {
      "cell_type": "markdown",
      "source": [
        "導入影片"
      ],
      "metadata": {
        "id": "ndkYdCnEkD1c"
      }
    },
    {
      "cell_type": "code",
      "source": [
        "from google.colab import drive\n",
        "drive.mount('/content/drive')"
      ],
      "metadata": {
        "colab": {
          "base_uri": "https://localhost:8080/"
        },
        "id": "m5bq__iOxUcK",
        "outputId": "a0aa867f-eea4-4158-f33b-d465e3654dcd"
      },
      "execution_count": 1,
      "outputs": [
        {
          "output_type": "stream",
          "name": "stdout",
          "text": [
            "Mounted at /content/drive\n"
          ]
        }
      ]
    },
    {
      "cell_type": "markdown",
      "source": [
        "影片轉圖片集"
      ],
      "metadata": {
        "id": "IDFANnWAsFCF"
      }
    },
    {
      "cell_type": "code",
      "source": [
        "import cv2\n",
        "import os\n",
        "\n",
        "# 設置 Google Drive 中的資料夾路徑\n",
        "drive_folder = '/content/drive/My Drive/畢業專題圖片'\n",
        "video_dir = '/content/drive/My Drive/畢業專題影片'\n",
        "\n",
        "# 處理單個影片的函式\n",
        "def process_video(video_file, output_dir, target_fps):\n",
        "    video_path = os.path.join(video_dir, video_file)\n",
        "    cap = cv2.VideoCapture(video_path)\n",
        "\n",
        "    if not cap.isOpened():\n",
        "        print(f'無法打開影片文件: {video_file}')\n",
        "        return\n",
        "\n",
        "    # 獲取原始幀率\n",
        "    original_fps = cap.get(cv2.CAP_PROP_FPS)\n",
        "    if original_fps == 0.0:\n",
        "        print(f'無法讀取影片幀率: {video_file}')\n",
        "        return\n",
        "\n",
        "    if original_fps < target_fps:\n",
        "        print(f'警告: 原影片的幀率 ({original_fps}) 低於目標幀率 ({target_fps})。將保存所有幀。')\n",
        "        target_fps = original_fps  # 如果目標幀率高於原始幀率，設置目標幀率為原始幀率\n",
        "\n",
        "    frame_interval = int(original_fps / target_fps) if target_fps else 1\n",
        "\n",
        "    frame_count = 0\n",
        "    success = True\n",
        "    frame_number = 0\n",
        "\n",
        "    while success:\n",
        "        success, frame = cap.read()\n",
        "        if success and frame_number % frame_interval == 0:\n",
        "            # 保存每幀為圖片到指定資料夾\n",
        "            frame_path = os.path.join(output_dir, f'{os.path.splitext(video_file)[0]}_frame_{frame_count:04d}.png')\n",
        "            cv2.imwrite(frame_path, frame)\n",
        "            frame_count += 1\n",
        "        frame_number += 1\n",
        "\n",
        "    cap.release()\n",
        "    print(f'保存了 {frame_count} 幀圖像從 {video_file} 到 {output_dir}')\n",
        "\n",
        "# 遍歷 '畢業專題影片' 文件夾中的每個影片\n",
        "for video_file in os.listdir(video_dir):\n",
        "    if video_file.endswith('.mp4'):  # 確保只處理視頻文件\n",
        "        # 為每個影片創建單獨的輸出資料夾\n",
        "        output_dir = os.path.join(drive_folder, os.path.splitext(video_file)[0])\n",
        "        os.makedirs(output_dir, exist_ok=True)\n",
        "\n",
        "        # 處理影片\n",
        "        process_video(video_file, output_dir, target_fps=60)\n",
        "\n",
        "print('所有影片處理完成。')\n"
      ],
      "metadata": {
        "colab": {
          "base_uri": "https://localhost:8080/"
        },
        "id": "h96Q0MbWkIIv",
        "outputId": "9691c066-d0b3-4a88-bd1d-a5e0351a7454",
        "collapsed": true
      },
      "execution_count": 7,
      "outputs": [
        {
          "output_type": "stream",
          "name": "stdout",
          "text": [
            "警告: 原影片的幀率 (29.97002997002997) 低於目標幀率 (60)。將保存所有幀。\n",
            "保存了 41 幀圖像從 173744.mp4 到 /content/drive/My Drive/畢業專題圖片/173744\n",
            "警告: 原影片的幀率 (29.97002997002997) 低於目標幀率 (60)。將保存所有幀。\n",
            "保存了 58 幀圖像從 172130.mp4 到 /content/drive/My Drive/畢業專題圖片/172130\n",
            "警告: 原影片的幀率 (29.97002997002997) 低於目標幀率 (60)。將保存所有幀。\n",
            "保存了 16 幀圖像從 172501.mp4 到 /content/drive/My Drive/畢業專題圖片/172501\n",
            "警告: 原影片的幀率 (29.97002997002997) 低於目標幀率 (60)。將保存所有幀。\n",
            "保存了 13 幀圖像從 172233.mp4 到 /content/drive/My Drive/畢業專題圖片/172233\n",
            "警告: 原影片的幀率 (29.97002997002997) 低於目標幀率 (60)。將保存所有幀。\n",
            "保存了 20 幀圖像從 172443.mp4 到 /content/drive/My Drive/畢業專題圖片/172443\n",
            "警告: 原影片的幀率 (29.97002997002997) 低於目標幀率 (60)。將保存所有幀。\n",
            "保存了 19 幀圖像從 172508.mp4 到 /content/drive/My Drive/畢業專題圖片/172508\n",
            "警告: 原影片的幀率 (29.97002997002997) 低於目標幀率 (60)。將保存所有幀。\n",
            "保存了 26 幀圖像從 172516.mp4 到 /content/drive/My Drive/畢業專題圖片/172516\n",
            "警告: 原影片的幀率 (29.97002997002997) 低於目標幀率 (60)。將保存所有幀。\n",
            "保存了 12 幀圖像從 172239.mp4 到 /content/drive/My Drive/畢業專題圖片/172239\n",
            "警告: 原影片的幀率 (29.97002997002997) 低於目標幀率 (60)。將保存所有幀。\n",
            "保存了 23 幀圖像從 172911.mp4 到 /content/drive/My Drive/畢業專題圖片/172911\n",
            "警告: 原影片的幀率 (29.97002997002997) 低於目標幀率 (60)。將保存所有幀。\n",
            "保存了 17 幀圖像從 172831.mp4 到 /content/drive/My Drive/畢業專題圖片/172831\n",
            "警告: 原影片的幀率 (29.97002997002997) 低於目標幀率 (60)。將保存所有幀。\n",
            "保存了 19 幀圖像從 172246.mp4 到 /content/drive/My Drive/畢業專題圖片/172246\n",
            "警告: 原影片的幀率 (29.97002997002997) 低於目標幀率 (60)。將保存所有幀。\n",
            "保存了 40 幀圖像從 172528.mp4 到 /content/drive/My Drive/畢業專題圖片/172528\n",
            "警告: 原影片的幀率 (29.97002997002997) 低於目標幀率 (60)。將保存所有幀。\n",
            "保存了 21 幀圖像從 172433.mp4 到 /content/drive/My Drive/畢業專題圖片/172433\n",
            "警告: 原影片的幀率 (29.97002997002997) 低於目標幀率 (60)。將保存所有幀。\n",
            "保存了 28 幀圖像從 172425.mp4 到 /content/drive/My Drive/畢業專題圖片/172425\n",
            "警告: 原影片的幀率 (29.97002997002997) 低於目標幀率 (60)。將保存所有幀。\n",
            "保存了 27 幀圖像從 172418.mp4 到 /content/drive/My Drive/畢業專題圖片/172418\n",
            "警告: 原影片的幀率 (29.97002997002997) 低於目標幀率 (60)。將保存所有幀。\n",
            "保存了 24 幀圖像從 172357.mp4 到 /content/drive/My Drive/畢業專題圖片/172357\n",
            "警告: 原影片的幀率 (29.97002997002997) 低於目標幀率 (60)。將保存所有幀。\n",
            "保存了 24 幀圖像從 172345.mp4 到 /content/drive/My Drive/畢業專題圖片/172345\n",
            "警告: 原影片的幀率 (29.97002997002997) 低於目標幀率 (60)。將保存所有幀。\n",
            "保存了 30 幀圖像從 172409.mp4 到 /content/drive/My Drive/畢業專題圖片/172409\n",
            "警告: 原影片的幀率 (29.97002997002997) 低於目標幀率 (60)。將保存所有幀。\n",
            "保存了 26 幀圖像從 172258.mp4 到 /content/drive/My Drive/畢業專題圖片/172258\n",
            "警告: 原影片的幀率 (29.97002997002997) 低於目標幀率 (60)。將保存所有幀。\n",
            "保存了 39 幀圖像從 172336.mp4 到 /content/drive/My Drive/畢業專題圖片/172336\n",
            "警告: 原影片的幀率 (29.97002997002997) 低於目標幀率 (60)。將保存所有幀。\n",
            "保存了 26 幀圖像從 172330.mp4 到 /content/drive/My Drive/畢業專題圖片/172330\n",
            "警告: 原影片的幀率 (29.97002997002997) 低於目標幀率 (60)。將保存所有幀。\n",
            "保存了 14 幀圖像從 172844.mp4 到 /content/drive/My Drive/畢業專題圖片/172844\n",
            "警告: 原影片的幀率 (29.97002997002997) 低於目標幀率 (60)。將保存所有幀。\n",
            "保存了 9 幀圖像從 172851.mp4 到 /content/drive/My Drive/畢業專題圖片/172851\n",
            "警告: 原影片的幀率 (29.97002997002997) 低於目標幀率 (60)。將保存所有幀。\n",
            "保存了 13 幀圖像從 172316.mp4 到 /content/drive/My Drive/畢業專題圖片/172316\n",
            "警告: 原影片的幀率 (29.97002997002997) 低於目標幀率 (60)。將保存所有幀。\n",
            "保存了 13 幀圖像從 172213.mp4 到 /content/drive/My Drive/畢業專題圖片/172213\n",
            "警告: 原影片的幀率 (29.97002997002997) 低於目標幀率 (60)。將保存所有幀。\n",
            "保存了 10 幀圖像從 172305.mp4 到 /content/drive/My Drive/畢業專題圖片/172305\n",
            "警告: 原影片的幀率 (29.97002997002997) 低於目標幀率 (60)。將保存所有幀。\n",
            "保存了 10 幀圖像從 172252.mp4 到 /content/drive/My Drive/畢業專題圖片/172252\n",
            "所有影片處理完成。\n"
          ]
        }
      ]
    },
    {
      "cell_type": "markdown",
      "source": [
        "分割影片成圖片(一秒60帪)"
      ],
      "metadata": {
        "id": "irTjnndykHe3"
      }
    },
    {
      "cell_type": "code",
      "source": [
        "import cv2\n",
        "import os\n",
        "\n",
        "def extract_frames(video_path, output_dir, fps=60):\n",
        "    # 創建輸出目錄\n",
        "    if not os.path.exists(output_dir):\n",
        "        os.makedirs(output_dir)\n",
        "\n",
        "    # 打開影片文件\n",
        "    cap = cv2.VideoCapture(video_path)\n",
        "\n",
        "    # 獲取影片的基本信息\n",
        "    video_fps = int(cap.get(cv2.CAP_PROP_FPS))\n",
        "    frame_interval = int(video_fps / fps)\n",
        "\n",
        "    frame_count = 0\n",
        "    saved_count = 0\n",
        "\n",
        "    while True:\n",
        "        ret, frame = cap.read()\n",
        "        if not ret:\n",
        "            break\n",
        "\n",
        "        # 每 frame_interval 幀保存一次\n",
        "        if frame_count % frame_interval == 0:\n",
        "            frame_filename = os.path.join(output_dir, f\"frame_{saved_count:04d}.png\")\n",
        "            cv2.imwrite(frame_filename, frame)\n",
        "            saved_count += 1\n",
        "\n",
        "        frame_count += 1\n",
        "\n",
        "    cap.release()\n",
        "    print(f\"Saved {saved_count} frames to {output_dir}\")\n",
        "\n",
        "# 設置影片路徑和輸出目錄\n",
        "video_path = '/content/20240509_172239.mp4'  #這邊看之後要修改成能處理一整個檔案的影片\n",
        "output_dir = '/content/extracted_frames'\n",
        "\n",
        "# 提取幀並保存\n",
        "extract_frames(video_path, output_dir)"
      ],
      "metadata": {
        "id": "Ar7m4Iy7kKF7"
      },
      "execution_count": null,
      "outputs": []
    }
  ]
}