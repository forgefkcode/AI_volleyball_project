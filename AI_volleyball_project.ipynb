{
  "nbformat": 4,
  "nbformat_minor": 0,
  "metadata": {
    "colab": {
      "provenance": [],
      "authorship_tag": "ABX9TyNw6fFJPPDV9vUP0eZXmeAM",
      "include_colab_link": true
    },
    "kernelspec": {
      "name": "python3",
      "display_name": "Python 3"
    },
    "language_info": {
      "name": "python"
    }
  },
  "cells": [
    {
      "cell_type": "markdown",
      "metadata": {
        "id": "view-in-github",
        "colab_type": "text"
      },
      "source": [
        "<a href=\"https://colab.research.google.com/github/forgefkcode/AI_volleyball_project/blob/main/AI_volleyball_project.ipynb\" target=\"_parent\"><img src=\"https://colab.research.google.com/assets/colab-badge.svg\" alt=\"Open In Colab\"/></a>"
      ]
    },
    {
      "cell_type": "markdown",
      "source": [
        "導入影片"
      ],
      "metadata": {
        "id": "ndkYdCnEkD1c"
      }
    },
    {
      "cell_type": "code",
      "execution_count": null,
      "metadata": {
        "id": "mq_pk51BkAtG"
      },
      "outputs": [],
      "source": [
        "from google.colab import drive\n",
        "import os\n",
        "\n",
        "# 掛載 Google Drive\n",
        "drive.mount('/content/drive')\n",
        "\n",
        "# 設置共用雲端硬碟的路徑\n",
        "shared_drive_path = '/content/drive/Shared drives/Shared Project Drive'\n",
        "\n",
        "# 列出共用雲端硬碟中的文件和文件夾\n",
        "if os.path.exists(shared_drive_path):\n",
        "    print(f\"Files in '{shared_drive_path}':\")\n",
        "    print(os.listdir(shared_drive_path))\n",
        "else:\n",
        "    print(f\"Shared drive '{shared_drive_path}' not found.\")"
      ]
    },
    {
      "cell_type": "markdown",
      "source": [
        "分割影片成圖片(一秒60帪)"
      ],
      "metadata": {
        "id": "irTjnndykHe3"
      }
    },
    {
      "cell_type": "code",
      "source": [
        "import cv2\n",
        "import os\n",
        "\n",
        "def extract_frames(video_path, output_dir, fps=60):\n",
        "    # 創建輸出目錄\n",
        "    if not os.path.exists(output_dir):\n",
        "        os.makedirs(output_dir)\n",
        "\n",
        "    # 打開影片文件\n",
        "    cap = cv2.VideoCapture(video_path)\n",
        "\n",
        "    # 獲取影片的基本信息\n",
        "    video_fps = int(cap.get(cv2.CAP_PROP_FPS))\n",
        "    frame_interval = int(video_fps / fps)\n",
        "\n",
        "    frame_count = 0\n",
        "    saved_count = 0\n",
        "\n",
        "    while True:\n",
        "        ret, frame = cap.read()\n",
        "        if not ret:\n",
        "            break\n",
        "\n",
        "        # 每 frame_interval 幀保存一次\n",
        "        if frame_count % frame_interval == 0:\n",
        "            frame_filename = os.path.join(output_dir, f\"frame_{saved_count:04d}.png\")\n",
        "            cv2.imwrite(frame_filename, frame)\n",
        "            saved_count += 1\n",
        "\n",
        "        frame_count += 1\n",
        "\n",
        "    cap.release()\n",
        "    print(f\"Saved {saved_count} frames to {output_dir}\")\n",
        "\n",
        "# 設置影片路徑和輸出目錄\n",
        "video_path = '/content/20240509_172239.mp4'  #這邊看之後要修改成能處理一整個檔案的影片\n",
        "output_dir = '/content/extracted_frames'\n",
        "\n",
        "# 提取幀並保存\n",
        "extract_frames(video_path, output_dir)"
      ],
      "metadata": {
        "id": "Ar7m4Iy7kKF7"
      },
      "execution_count": null,
      "outputs": []
    }
  ]
}