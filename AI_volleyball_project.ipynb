{
  "nbformat": 4,
  "nbformat_minor": 0,
  "metadata": {
    "colab": {
      "provenance": [],
      "include_colab_link": true
    },
    "kernelspec": {
      "name": "python3",
      "display_name": "Python 3"
    },
    "language_info": {
      "name": "python"
    }
  },
  "cells": [
    {
      "cell_type": "markdown",
      "metadata": {
        "id": "view-in-github",
        "colab_type": "text"
      },
      "source": [
        "<a href=\"https://colab.research.google.com/github/forgefkcode/AI_volleyball_project/blob/15/AI_volleyball_project.ipynb\" target=\"_parent\"><img src=\"https://colab.research.google.com/assets/colab-badge.svg\" alt=\"Open In Colab\"/></a>"
      ]
    },
    {
      "cell_type": "code",
      "source": [
        "import cv2\n",
        "import os"
      ],
      "metadata": {
        "id": "vS5qOFAZbexo"
      },
      "execution_count": null,
      "outputs": []
    },
    {
      "cell_type": "markdown",
      "source": [
        "設置Google Drive中的資料夾路徑"
      ],
      "metadata": {
        "id": "ndkYdCnEkD1c"
      }
    },
    {
      "cell_type": "code",
      "execution_count": null,
      "metadata": {
        "id": "mq_pk51BkAtG"
      },
      "outputs": [],
      "source": [
        "drive_folder = '/content/drive/My Drive/畢業專題圖片/排球5-9-畢專'"
      ]
    },
    {
      "cell_type": "markdown",
      "source": [
        "影片所在資料夾路徑"
      ],
      "metadata": {
        "id": "irTjnndykHe3"
      }
    },
    {
      "cell_type": "code",
      "source": [
        "video_dir = '/content/drive/My Drive/畢業專題影片/排球5-9-畢專'"
      ],
      "metadata": {
        "id": "Ar7m4Iy7kKF7"
      },
      "execution_count": null,
      "outputs": []
    },
    {
      "cell_type": "markdown",
      "source": [
        "處理單個影片的函式"
      ],
      "metadata": {
        "id": "LeyYQQd0c9h_"
      }
    },
    {
      "cell_type": "code",
      "source": [
        "def process_video(video_file, output_dir):\n",
        "    video_path = os.path.join(video_dir, video_file)\n",
        "    cap = cv2.VideoCapture(video_path)\n",
        "\n",
        "    frame_count = 0\n",
        "    success = True\n",
        "\n",
        "    while success:\n",
        "        success, frame = cap.read()\n",
        "        if success:\n",
        "            # 保存每幀為圖片到指定資料夾\n",
        "            frame_path = os.path.join(output_dir, f'{os.path.splitext(video_file)[0]}frame{frame_count:04d}.png')\n",
        "            cv2.imwrite(frame_path, frame)\n",
        "            frame_count += 1\n",
        "\n",
        "    cap.release()\n",
        "    print(f'保存了 {frame_count} 幀圖像從 {video_file} 到 {output_dir}')"
      ],
      "metadata": {
        "id": "Lx9eL1n_c-he"
      },
      "execution_count": null,
      "outputs": []
    },
    {
      "cell_type": "markdown",
      "source": [
        "單獨處理每個影片"
      ],
      "metadata": {
        "id": "MBC5caqddOMG"
      }
    },
    {
      "cell_type": "code",
      "source": [
        "video_file = '20240509_173744.mp4'  # 更換為你要處理的影片文件名\n",
        "output_dir = os.path.join(drive_folder, '001')  # 在Google Drive中保存圖片的資料夾路徑"
      ],
      "metadata": {
        "id": "rkI_zaYWdPVl"
      },
      "execution_count": null,
      "outputs": []
    },
    {
      "cell_type": "markdown",
      "source": [
        "確保輸出資料夾存在"
      ],
      "metadata": {
        "id": "lVjgNVCGdSFW"
      }
    },
    {
      "cell_type": "code",
      "source": [
        "os.makedirs(output_dir, exist_ok=True)"
      ],
      "metadata": {
        "id": "AC4SivmudVR2"
      },
      "execution_count": null,
      "outputs": []
    },
    {
      "cell_type": "markdown",
      "source": [
        "處理影片"
      ],
      "metadata": {
        "id": "4uEwd4mldX1F"
      }
    },
    {
      "cell_type": "code",
      "source": [
        "process_video(video_file, output_dir)\n",
        "\n",
        "print(f'{video_file} 處理完成，幀圖像保存在 {output_dir}')"
      ],
      "metadata": {
        "id": "-zNgU78IdaqG"
      },
      "execution_count": null,
      "outputs": []
    }
  ]
}